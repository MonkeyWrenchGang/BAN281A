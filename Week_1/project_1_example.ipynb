{
 "cells": [
  {
   "cell_type": "markdown",
   "metadata": {},
   "source": [
    "## Project 1\n",
    "- Mike Ames \n",
    "- amesam@wfu.edu\n",
    "- 17May2020\n"
   ]
  },
  {
   "cell_type": "markdown",
   "metadata": {},
   "source": [
    "### Load Packages\n",
    "-------\n",
    "\n"
   ]
  },
  {
   "cell_type": "code",
   "execution_count": 1,
   "metadata": {},
   "outputs": [
    {
     "data": {
      "text/html": [
       "<style>.container { width:90% }</style>"
      ],
      "text/plain": [
       "<IPython.core.display.HTML object>"
      ]
     },
     "metadata": {},
     "output_type": "display_data"
    }
   ],
   "source": [
    "from IPython.core.display import display, HTML\n",
    "from IPython.display import clear_output\n",
    "display(HTML(\"<style>.container { width:90% }</style>\"))\n",
    "# ------------------------------------------------------------------\n",
    "\n",
    "import numpy as np\n",
    "import matplotlib.pyplot as plt\n",
    "import seaborn as sns\n",
    "import pandas as pd\n",
    "\n",
    "# -- first sklearn module, split training and test\n",
    "from sklearn.model_selection import train_test_split\n",
    "\n",
    "# -- need this to render charts in notebook -- \n",
    "%matplotlib inline"
   ]
  },
  {
   "cell_type": "markdown",
   "metadata": {},
   "source": [
    "## Tasks \n",
    "### Part 1\n",
    "1. Stage data\n",
    "2. Clean up column names \n",
    "3. Describe data \n",
    "4. Explore likely predictors  \n",
    "\n",
    "### Part 2.\n",
    "5. Partition into 75/25 split \n",
    "6. Write a rule to predict likely targets \n",
    "7. Evaluate  \n",
    "\n",
    "### Part 3.  \n",
    "8. Write up your thoughts. "
   ]
  },
  {
   "cell_type": "markdown",
   "metadata": {},
   "source": [
    "# Part 1. \n",
    "## 1. Stage \n",
    "----- \n",
    "import our dataset into a pandas dataframe\n"
   ]
  },
  {
   "cell_type": "code",
   "execution_count": 2,
   "metadata": {},
   "outputs": [
    {
     "data": {
      "text/html": [
       "<div>\n",
       "<style scoped>\n",
       "    .dataframe tbody tr th:only-of-type {\n",
       "        vertical-align: middle;\n",
       "    }\n",
       "\n",
       "    .dataframe tbody tr th {\n",
       "        vertical-align: top;\n",
       "    }\n",
       "\n",
       "    .dataframe thead th {\n",
       "        text-align: right;\n",
       "    }\n",
       "</style>\n",
       "<table border=\"1\" class=\"dataframe\">\n",
       "  <thead>\n",
       "    <tr style=\"text-align: right;\">\n",
       "      <th></th>\n",
       "      <th>age</th>\n",
       "      <th>workclass</th>\n",
       "      <th>fnlwgt</th>\n",
       "      <th>education</th>\n",
       "      <th>educational-num</th>\n",
       "      <th>marital-status</th>\n",
       "      <th>occupation</th>\n",
       "      <th>relationship</th>\n",
       "      <th>race</th>\n",
       "      <th>gender</th>\n",
       "      <th>capital-gain</th>\n",
       "      <th>capital-loss</th>\n",
       "      <th>hours-per-week</th>\n",
       "      <th>native-country</th>\n",
       "      <th>income</th>\n",
       "    </tr>\n",
       "  </thead>\n",
       "  <tbody>\n",
       "    <tr>\n",
       "      <td>0</td>\n",
       "      <td>25</td>\n",
       "      <td>Private</td>\n",
       "      <td>226802</td>\n",
       "      <td>11th</td>\n",
       "      <td>7</td>\n",
       "      <td>Never-married</td>\n",
       "      <td>Machine-op-inspct</td>\n",
       "      <td>Own-child</td>\n",
       "      <td>Black</td>\n",
       "      <td>Male</td>\n",
       "      <td>0</td>\n",
       "      <td>0</td>\n",
       "      <td>40</td>\n",
       "      <td>United-States</td>\n",
       "      <td>&lt;=50K</td>\n",
       "    </tr>\n",
       "    <tr>\n",
       "      <td>1</td>\n",
       "      <td>38</td>\n",
       "      <td>Private</td>\n",
       "      <td>89814</td>\n",
       "      <td>HS-grad</td>\n",
       "      <td>9</td>\n",
       "      <td>Married-civ-spouse</td>\n",
       "      <td>Farming-fishing</td>\n",
       "      <td>Husband</td>\n",
       "      <td>White</td>\n",
       "      <td>Male</td>\n",
       "      <td>0</td>\n",
       "      <td>0</td>\n",
       "      <td>50</td>\n",
       "      <td>United-States</td>\n",
       "      <td>&lt;=50K</td>\n",
       "    </tr>\n",
       "    <tr>\n",
       "      <td>2</td>\n",
       "      <td>28</td>\n",
       "      <td>Local-gov</td>\n",
       "      <td>336951</td>\n",
       "      <td>Assoc-acdm</td>\n",
       "      <td>12</td>\n",
       "      <td>Married-civ-spouse</td>\n",
       "      <td>Protective-serv</td>\n",
       "      <td>Husband</td>\n",
       "      <td>White</td>\n",
       "      <td>Male</td>\n",
       "      <td>0</td>\n",
       "      <td>0</td>\n",
       "      <td>40</td>\n",
       "      <td>United-States</td>\n",
       "      <td>&gt;50K</td>\n",
       "    </tr>\n",
       "    <tr>\n",
       "      <td>3</td>\n",
       "      <td>44</td>\n",
       "      <td>Private</td>\n",
       "      <td>160323</td>\n",
       "      <td>Some-college</td>\n",
       "      <td>10</td>\n",
       "      <td>Married-civ-spouse</td>\n",
       "      <td>Machine-op-inspct</td>\n",
       "      <td>Husband</td>\n",
       "      <td>Black</td>\n",
       "      <td>Male</td>\n",
       "      <td>7688</td>\n",
       "      <td>0</td>\n",
       "      <td>40</td>\n",
       "      <td>United-States</td>\n",
       "      <td>&gt;50K</td>\n",
       "    </tr>\n",
       "    <tr>\n",
       "      <td>4</td>\n",
       "      <td>18</td>\n",
       "      <td>?</td>\n",
       "      <td>103497</td>\n",
       "      <td>Some-college</td>\n",
       "      <td>10</td>\n",
       "      <td>Never-married</td>\n",
       "      <td>?</td>\n",
       "      <td>Own-child</td>\n",
       "      <td>White</td>\n",
       "      <td>Female</td>\n",
       "      <td>0</td>\n",
       "      <td>0</td>\n",
       "      <td>30</td>\n",
       "      <td>United-States</td>\n",
       "      <td>&lt;=50K</td>\n",
       "    </tr>\n",
       "  </tbody>\n",
       "</table>\n",
       "</div>"
      ],
      "text/plain": [
       "   age  workclass  fnlwgt     education  educational-num      marital-status  \\\n",
       "0   25    Private  226802          11th                7       Never-married   \n",
       "1   38    Private   89814       HS-grad                9  Married-civ-spouse   \n",
       "2   28  Local-gov  336951    Assoc-acdm               12  Married-civ-spouse   \n",
       "3   44    Private  160323  Some-college               10  Married-civ-spouse   \n",
       "4   18          ?  103497  Some-college               10       Never-married   \n",
       "\n",
       "          occupation relationship   race  gender  capital-gain  capital-loss  \\\n",
       "0  Machine-op-inspct    Own-child  Black    Male             0             0   \n",
       "1    Farming-fishing      Husband  White    Male             0             0   \n",
       "2    Protective-serv      Husband  White    Male             0             0   \n",
       "3  Machine-op-inspct      Husband  Black    Male          7688             0   \n",
       "4                  ?    Own-child  White  Female             0             0   \n",
       "\n",
       "   hours-per-week native-country income  \n",
       "0              40  United-States  <=50K  \n",
       "1              50  United-States  <=50K  \n",
       "2              40  United-States   >50K  \n",
       "3              40  United-States   >50K  \n",
       "4              30  United-States  <=50K  "
      ]
     },
     "execution_count": 2,
     "metadata": {},
     "output_type": "execute_result"
    }
   ],
   "source": [
    "df = pd.read_csv(\"./data/adult.csv\")\n",
    "df.head()"
   ]
  },
  {
   "cell_type": "markdown",
   "metadata": {},
   "source": [
    "## 2.  Clean up Column Names\n",
    "\n",
    "*It's just not fun dealing with ill-formed columns*\n",
    "\n",
    "- remove leading and trailing characters\n",
    "- replace spaces with underscores _ \n",
    "- change case to lower case\n",
    "- remove various special characters"
   ]
  },
  {
   "cell_type": "code",
   "execution_count": 64,
   "metadata": {},
   "outputs": [
    {
     "data": {
      "text/plain": [
       "Index(['age', 'workclass', 'fnlwgt', 'education', 'educational_num',\n",
       "       'marital_status', 'occupation', 'relationship', 'race', 'gender',\n",
       "       'capital_gain', 'capital_loss', 'hours_per_week', 'native_country',\n",
       "       'income'],\n",
       "      dtype='object')"
      ]
     },
     "execution_count": 64,
     "metadata": {},
     "output_type": "execute_result"
    }
   ],
   "source": [
    "df.columns = ( df.columns\n",
    "    .str.strip()\n",
    "    .str.lower()\n",
    "    .str.replace(' ', '_')\n",
    "    .str.replace('-', '_')\n",
    "    .str.replace('(', '')\n",
    "    .str.replace(')', '')\n",
    "    .str.replace('?', '')\n",
    "    .str.replace('\\'', '') # notice the backslash \\ this is an escape character\n",
    ")\n",
    "df.columns"
   ]
  },
  {
   "cell_type": "markdown",
   "metadata": {},
   "source": [
    "## 3. Describe data\n",
    "### Check Target\n",
    "-----\n",
    "always start by understanding your target value \n"
   ]
  },
  {
   "cell_type": "code",
   "execution_count": 7,
   "metadata": {},
   "outputs": [
    {
     "data": {
      "text/plain": [
       "<=50K    37155\n",
       ">50K     11687\n",
       "Name: income, dtype: int64"
      ]
     },
     "execution_count": 7,
     "metadata": {},
     "output_type": "execute_result"
    }
   ],
   "source": [
    "df['income'].value_counts()"
   ]
  },
  {
   "cell_type": "markdown",
   "metadata": {},
   "source": [
    "### Describe \n",
    "---------\n",
    "Always take a look at your data to see what you are dealing with "
   ]
  },
  {
   "cell_type": "code",
   "execution_count": 65,
   "metadata": {},
   "outputs": [
    {
     "data": {
      "text/html": [
       "<div>\n",
       "<style scoped>\n",
       "    .dataframe tbody tr th:only-of-type {\n",
       "        vertical-align: middle;\n",
       "    }\n",
       "\n",
       "    .dataframe tbody tr th {\n",
       "        vertical-align: top;\n",
       "    }\n",
       "\n",
       "    .dataframe thead th {\n",
       "        text-align: right;\n",
       "    }\n",
       "</style>\n",
       "<table border=\"1\" class=\"dataframe\">\n",
       "  <thead>\n",
       "    <tr style=\"text-align: right;\">\n",
       "      <th></th>\n",
       "      <th>count</th>\n",
       "      <th>unique</th>\n",
       "      <th>top</th>\n",
       "      <th>freq</th>\n",
       "      <th>mean</th>\n",
       "      <th>std</th>\n",
       "      <th>min</th>\n",
       "      <th>25%</th>\n",
       "      <th>50%</th>\n",
       "      <th>75%</th>\n",
       "      <th>max</th>\n",
       "    </tr>\n",
       "  </thead>\n",
       "  <tbody>\n",
       "    <tr>\n",
       "      <td>gender</td>\n",
       "      <td>48842</td>\n",
       "      <td>2</td>\n",
       "      <td>Male</td>\n",
       "      <td>32650</td>\n",
       "      <td>NaN</td>\n",
       "      <td>NaN</td>\n",
       "      <td>NaN</td>\n",
       "      <td>NaN</td>\n",
       "      <td>NaN</td>\n",
       "      <td>NaN</td>\n",
       "      <td>NaN</td>\n",
       "    </tr>\n",
       "    <tr>\n",
       "      <td>income</td>\n",
       "      <td>48842</td>\n",
       "      <td>2</td>\n",
       "      <td>&lt;=50K</td>\n",
       "      <td>37155</td>\n",
       "      <td>NaN</td>\n",
       "      <td>NaN</td>\n",
       "      <td>NaN</td>\n",
       "      <td>NaN</td>\n",
       "      <td>NaN</td>\n",
       "      <td>NaN</td>\n",
       "      <td>NaN</td>\n",
       "    </tr>\n",
       "    <tr>\n",
       "      <td>race</td>\n",
       "      <td>48842</td>\n",
       "      <td>5</td>\n",
       "      <td>White</td>\n",
       "      <td>41762</td>\n",
       "      <td>NaN</td>\n",
       "      <td>NaN</td>\n",
       "      <td>NaN</td>\n",
       "      <td>NaN</td>\n",
       "      <td>NaN</td>\n",
       "      <td>NaN</td>\n",
       "      <td>NaN</td>\n",
       "    </tr>\n",
       "    <tr>\n",
       "      <td>relationship</td>\n",
       "      <td>48842</td>\n",
       "      <td>6</td>\n",
       "      <td>Husband</td>\n",
       "      <td>19716</td>\n",
       "      <td>NaN</td>\n",
       "      <td>NaN</td>\n",
       "      <td>NaN</td>\n",
       "      <td>NaN</td>\n",
       "      <td>NaN</td>\n",
       "      <td>NaN</td>\n",
       "      <td>NaN</td>\n",
       "    </tr>\n",
       "    <tr>\n",
       "      <td>marital_status</td>\n",
       "      <td>48842</td>\n",
       "      <td>7</td>\n",
       "      <td>Married-civ-spouse</td>\n",
       "      <td>22379</td>\n",
       "      <td>NaN</td>\n",
       "      <td>NaN</td>\n",
       "      <td>NaN</td>\n",
       "      <td>NaN</td>\n",
       "      <td>NaN</td>\n",
       "      <td>NaN</td>\n",
       "      <td>NaN</td>\n",
       "    </tr>\n",
       "    <tr>\n",
       "      <td>workclass</td>\n",
       "      <td>48842</td>\n",
       "      <td>9</td>\n",
       "      <td>Private</td>\n",
       "      <td>33906</td>\n",
       "      <td>NaN</td>\n",
       "      <td>NaN</td>\n",
       "      <td>NaN</td>\n",
       "      <td>NaN</td>\n",
       "      <td>NaN</td>\n",
       "      <td>NaN</td>\n",
       "      <td>NaN</td>\n",
       "    </tr>\n",
       "    <tr>\n",
       "      <td>occupation</td>\n",
       "      <td>48842</td>\n",
       "      <td>15</td>\n",
       "      <td>Prof-specialty</td>\n",
       "      <td>6172</td>\n",
       "      <td>NaN</td>\n",
       "      <td>NaN</td>\n",
       "      <td>NaN</td>\n",
       "      <td>NaN</td>\n",
       "      <td>NaN</td>\n",
       "      <td>NaN</td>\n",
       "      <td>NaN</td>\n",
       "    </tr>\n",
       "    <tr>\n",
       "      <td>education</td>\n",
       "      <td>48842</td>\n",
       "      <td>16</td>\n",
       "      <td>HS-grad</td>\n",
       "      <td>15784</td>\n",
       "      <td>NaN</td>\n",
       "      <td>NaN</td>\n",
       "      <td>NaN</td>\n",
       "      <td>NaN</td>\n",
       "      <td>NaN</td>\n",
       "      <td>NaN</td>\n",
       "      <td>NaN</td>\n",
       "    </tr>\n",
       "    <tr>\n",
       "      <td>native_country</td>\n",
       "      <td>48842</td>\n",
       "      <td>42</td>\n",
       "      <td>United-States</td>\n",
       "      <td>43832</td>\n",
       "      <td>NaN</td>\n",
       "      <td>NaN</td>\n",
       "      <td>NaN</td>\n",
       "      <td>NaN</td>\n",
       "      <td>NaN</td>\n",
       "      <td>NaN</td>\n",
       "      <td>NaN</td>\n",
       "    </tr>\n",
       "    <tr>\n",
       "      <td>age</td>\n",
       "      <td>48842</td>\n",
       "      <td>NaN</td>\n",
       "      <td>NaN</td>\n",
       "      <td>NaN</td>\n",
       "      <td>38.6436</td>\n",
       "      <td>13.7105</td>\n",
       "      <td>17</td>\n",
       "      <td>28</td>\n",
       "      <td>37</td>\n",
       "      <td>48</td>\n",
       "      <td>90</td>\n",
       "    </tr>\n",
       "    <tr>\n",
       "      <td>fnlwgt</td>\n",
       "      <td>48842</td>\n",
       "      <td>NaN</td>\n",
       "      <td>NaN</td>\n",
       "      <td>NaN</td>\n",
       "      <td>189664</td>\n",
       "      <td>105604</td>\n",
       "      <td>12285</td>\n",
       "      <td>117550</td>\n",
       "      <td>178144</td>\n",
       "      <td>237642</td>\n",
       "      <td>1.4904e+06</td>\n",
       "    </tr>\n",
       "    <tr>\n",
       "      <td>educational_num</td>\n",
       "      <td>48842</td>\n",
       "      <td>NaN</td>\n",
       "      <td>NaN</td>\n",
       "      <td>NaN</td>\n",
       "      <td>10.0781</td>\n",
       "      <td>2.57097</td>\n",
       "      <td>1</td>\n",
       "      <td>9</td>\n",
       "      <td>10</td>\n",
       "      <td>12</td>\n",
       "      <td>16</td>\n",
       "    </tr>\n",
       "    <tr>\n",
       "      <td>capital_gain</td>\n",
       "      <td>48842</td>\n",
       "      <td>NaN</td>\n",
       "      <td>NaN</td>\n",
       "      <td>NaN</td>\n",
       "      <td>1079.07</td>\n",
       "      <td>7452.02</td>\n",
       "      <td>0</td>\n",
       "      <td>0</td>\n",
       "      <td>0</td>\n",
       "      <td>0</td>\n",
       "      <td>99999</td>\n",
       "    </tr>\n",
       "    <tr>\n",
       "      <td>capital_loss</td>\n",
       "      <td>48842</td>\n",
       "      <td>NaN</td>\n",
       "      <td>NaN</td>\n",
       "      <td>NaN</td>\n",
       "      <td>87.5023</td>\n",
       "      <td>403.005</td>\n",
       "      <td>0</td>\n",
       "      <td>0</td>\n",
       "      <td>0</td>\n",
       "      <td>0</td>\n",
       "      <td>4356</td>\n",
       "    </tr>\n",
       "    <tr>\n",
       "      <td>hours_per_week</td>\n",
       "      <td>48842</td>\n",
       "      <td>NaN</td>\n",
       "      <td>NaN</td>\n",
       "      <td>NaN</td>\n",
       "      <td>40.4224</td>\n",
       "      <td>12.3914</td>\n",
       "      <td>1</td>\n",
       "      <td>40</td>\n",
       "      <td>40</td>\n",
       "      <td>45</td>\n",
       "      <td>99</td>\n",
       "    </tr>\n",
       "  </tbody>\n",
       "</table>\n",
       "</div>"
      ],
      "text/plain": [
       "                 count unique                 top   freq     mean      std  \\\n",
       "gender           48842      2                Male  32650      NaN      NaN   \n",
       "income           48842      2               <=50K  37155      NaN      NaN   \n",
       "race             48842      5               White  41762      NaN      NaN   \n",
       "relationship     48842      6             Husband  19716      NaN      NaN   \n",
       "marital_status   48842      7  Married-civ-spouse  22379      NaN      NaN   \n",
       "workclass        48842      9             Private  33906      NaN      NaN   \n",
       "occupation       48842     15      Prof-specialty   6172      NaN      NaN   \n",
       "education        48842     16             HS-grad  15784      NaN      NaN   \n",
       "native_country   48842     42       United-States  43832      NaN      NaN   \n",
       "age              48842    NaN                 NaN    NaN  38.6436  13.7105   \n",
       "fnlwgt           48842    NaN                 NaN    NaN   189664   105604   \n",
       "educational_num  48842    NaN                 NaN    NaN  10.0781  2.57097   \n",
       "capital_gain     48842    NaN                 NaN    NaN  1079.07  7452.02   \n",
       "capital_loss     48842    NaN                 NaN    NaN  87.5023  403.005   \n",
       "hours_per_week   48842    NaN                 NaN    NaN  40.4224  12.3914   \n",
       "\n",
       "                   min     25%     50%     75%         max  \n",
       "gender             NaN     NaN     NaN     NaN         NaN  \n",
       "income             NaN     NaN     NaN     NaN         NaN  \n",
       "race               NaN     NaN     NaN     NaN         NaN  \n",
       "relationship       NaN     NaN     NaN     NaN         NaN  \n",
       "marital_status     NaN     NaN     NaN     NaN         NaN  \n",
       "workclass          NaN     NaN     NaN     NaN         NaN  \n",
       "occupation         NaN     NaN     NaN     NaN         NaN  \n",
       "education          NaN     NaN     NaN     NaN         NaN  \n",
       "native_country     NaN     NaN     NaN     NaN         NaN  \n",
       "age                 17      28      37      48          90  \n",
       "fnlwgt           12285  117550  178144  237642  1.4904e+06  \n",
       "educational_num      1       9      10      12          16  \n",
       "capital_gain         0       0       0       0       99999  \n",
       "capital_loss         0       0       0       0        4356  \n",
       "hours_per_week       1      40      40      45          99  "
      ]
     },
     "execution_count": 65,
     "metadata": {},
     "output_type": "execute_result"
    }
   ],
   "source": [
    "df.describe(include='all').T.sort_values('unique')"
   ]
  },
  {
   "cell_type": "markdown",
   "metadata": {},
   "source": [
    "#### Check out Nulls \n",
    "----\n",
    "Null values can be interesting but you have to deal with them when we get to building models. step 1 is to identify your problem areas. step 2 would be to figure out if there is any predictive power in the nulls, step 3. would be handle them. forturnately we are just going to deal with identifyin if we have any nulls. "
   ]
  },
  {
   "cell_type": "code",
   "execution_count": 19,
   "metadata": {},
   "outputs": [
    {
     "data": {
      "text/plain": [
       "age                0\n",
       "workclass          0\n",
       "fnlwgt             0\n",
       "education          0\n",
       "educational_num    0\n",
       "marital_status     0\n",
       "occupation         0\n",
       "relationship       0\n",
       "race               0\n",
       "gender             0\n",
       "capital_gain       0\n",
       "capital_loss       0\n",
       "hours_per_week     0\n",
       "native_country     0\n",
       "income             0\n",
       "dtype: int64"
      ]
     },
     "execution_count": 19,
     "metadata": {},
     "output_type": "execute_result"
    }
   ],
   "source": [
    "# -- count nulls by column -- \n",
    "df.isnull().sum(axis = 0)"
   ]
  },
  {
   "cell_type": "markdown",
   "metadata": {},
   "source": [
    "## 4. Explore likely predictors\n",
    "### Make Histograms, Crosstabs and Barcharts \n",
    "\n",
    "\n",
    "----- \n",
    "\n",
    "We are looking to identify variables, split points and conditions that are likely useful to predict our target. \n",
    "\n",
    "Here is my basic recipe. \n",
    "1. Use histograms on NUMERIC varaibles, mess with the number of bins to make a more interesting chart. \n",
    "2. Use crosstab to create a table of frequencies for CATEGORICAL variables, you may want to normalize or not, i do both. \n",
    "    - first create a cross tab column by target, use reset_index() to return a dataframe instead of a crosstab \n",
    "    - second plot using a BAR chart(s) i typically usae one for each target variable \n",
    "    - if you want to get fancy you can use the bottom option for one of your \n",
    "histograms work on numbers, \n",
    "barcharts are useful for categorical frequencies \n"
   ]
  },
  {
   "cell_type": "code",
   "execution_count": 28,
   "metadata": {},
   "outputs": [
    {
     "data": {
      "image/png": "[encoded data removed]",
      "text/plain": [
       "<Figure size 1440x720 with 1 Axes>"
      ]
     },
     "metadata": {
      "needs_background": "light"
     },
     "output_type": "display_data"
    }
   ],
   "source": [
    "plt.figure(figsize=(20,10))\n",
    "# -- simply change the bin size to make the chart look better --\n",
    "\n",
    "plt.hist(df['age'], 25, facecolor='blue', alpha=0.5)\n",
    "plt.show()"
   ]
  },
  {
   "cell_type": "code",
   "execution_count": 30,
   "metadata": {},
   "outputs": [
    {
     "data": {
      "image/png": "[encoded data removed]",
      "text/plain": [
       "<Figure size 1440x720 with 1 Axes>"
      ]
     },
     "metadata": {
      "needs_background": "light"
     },
     "output_type": "display_data"
    }
   ],
   "source": [
    "plt.figure(figsize=(20,10))\n",
    "\n",
    "# -- divide my data into two datasets by target variable \n",
    "lt50 = df.loc[df['income']== \"<=50K\"]\n",
    "gt50 = df.loc[df['income']== \">50K\"]\n",
    "\n",
    "# -- simply change the bin size to make the chart look better --\n",
    "plt.hist(lt50['age'], 25, facecolor='lightblue', alpha=0.5)\n",
    "plt.hist(gt50['age'], 25, facecolor='red', alpha=0.5)\n",
    "\n",
    "plt.show()"
   ]
  },
  {
   "cell_type": "code",
   "execution_count": 33,
   "metadata": {},
   "outputs": [
    {
     "data": {
      "image/png": "[encoded data removed]",
      "text/plain": [
       "<Figure size 1440x720 with 1 Axes>"
      ]
     },
     "metadata": {
      "needs_background": "light"
     },
     "output_type": "display_data"
    }
   ],
   "source": [
    "plt.figure(figsize=(20,10))\n",
    "\n",
    "# -- simply change the bin size to make the chart look better --\n",
    "plt.hist(lt50['educational_num'], 10, facecolor='lightblue', alpha=0.5)\n",
    "plt.hist(gt50['educational_num'], 10, facecolor='red', alpha=0.5)\n",
    "\n",
    "plt.show()"
   ]
  },
  {
   "cell_type": "markdown",
   "metadata": {},
   "source": [
    "### OK what about Categorical Data? \n",
    "\n",
    "-----\n",
    "\n",
    "first i use a crosstab to create a new table of the column by the target. you can read about crosstabs here \n",
    "\n",
    "https://pandas.pydata.org/pandas-docs/stable/reference/api/pandas.crosstab.html\n",
    "\n",
    "Can you understand the difference when we look at percentages rather than counts? what does this tell us about identifying high earners? "
   ]
  },
  {
   "cell_type": "code",
   "execution_count": 53,
   "metadata": {},
   "outputs": [
    {
     "data": {
      "text/html": [
       "<div>\n",
       "<style scoped>\n",
       "    .dataframe tbody tr th:only-of-type {\n",
       "        vertical-align: middle;\n",
       "    }\n",
       "\n",
       "    .dataframe tbody tr th {\n",
       "        vertical-align: top;\n",
       "    }\n",
       "\n",
       "    .dataframe thead th {\n",
       "        text-align: right;\n",
       "    }\n",
       "</style>\n",
       "<table border=\"1\" class=\"dataframe\">\n",
       "  <thead>\n",
       "    <tr style=\"text-align: right;\">\n",
       "      <th>income</th>\n",
       "      <th>relationship</th>\n",
       "      <th>&lt;=50K</th>\n",
       "      <th>&gt;50K</th>\n",
       "    </tr>\n",
       "  </thead>\n",
       "  <tbody>\n",
       "    <tr>\n",
       "      <td>0</td>\n",
       "      <td>Husband</td>\n",
       "      <td>0.551329</td>\n",
       "      <td>0.448671</td>\n",
       "    </tr>\n",
       "    <tr>\n",
       "      <td>1</td>\n",
       "      <td>Not-in-family</td>\n",
       "      <td>0.898593</td>\n",
       "      <td>0.101407</td>\n",
       "    </tr>\n",
       "    <tr>\n",
       "      <td>2</td>\n",
       "      <td>Other-relative</td>\n",
       "      <td>0.965471</td>\n",
       "      <td>0.034529</td>\n",
       "    </tr>\n",
       "    <tr>\n",
       "      <td>3</td>\n",
       "      <td>Own-child</td>\n",
       "      <td>0.985358</td>\n",
       "      <td>0.014642</td>\n",
       "    </tr>\n",
       "    <tr>\n",
       "      <td>4</td>\n",
       "      <td>Unmarried</td>\n",
       "      <td>0.939707</td>\n",
       "      <td>0.060293</td>\n",
       "    </tr>\n",
       "    <tr>\n",
       "      <td>5</td>\n",
       "      <td>Wife</td>\n",
       "      <td>0.531103</td>\n",
       "      <td>0.468897</td>\n",
       "    </tr>\n",
       "  </tbody>\n",
       "</table>\n",
       "</div>"
      ],
      "text/plain": [
       "income    relationship     <=50K      >50K\n",
       "0              Husband  0.551329  0.448671\n",
       "1        Not-in-family  0.898593  0.101407\n",
       "2       Other-relative  0.965471  0.034529\n",
       "3            Own-child  0.985358  0.014642\n",
       "4            Unmarried  0.939707  0.060293\n",
       "5                 Wife  0.531103  0.468897"
      ]
     },
     "execution_count": 53,
     "metadata": {},
     "output_type": "execute_result"
    }
   ],
   "source": [
    "# -- normalize index converts to row percetages \n",
    "ctab = pd.crosstab(df['relationship'], df['income'], normalize=\"index\").reset_index()\n",
    "ctab"
   ]
  },
  {
   "cell_type": "code",
   "execution_count": 54,
   "metadata": {},
   "outputs": [
    {
     "data": {
      "image/png": "[encoded data removed]",
      "text/plain": [
       "<Figure size 1440x720 with 1 Axes>"
      ]
     },
     "metadata": {
      "needs_background": "light"
     },
     "output_type": "display_data"
    }
   ],
   "source": [
    "plt.figure(figsize=(20,10))\n",
    "# -- simply change the bin size\n",
    "plt.bar(ctab['relationship'], ctab['<=50K'], facecolor='lightblue', alpha=0.5)\n",
    "plt.bar(ctab['relationship'], ctab['>50K'], facecolor='red', alpha=0.5)\n",
    "plt.show()"
   ]
  },
  {
   "cell_type": "code",
   "execution_count": 55,
   "metadata": {},
   "outputs": [
    {
     "data": {
      "image/png": "[encoded data removed]",
      "text/plain": [
       "<Figure size 1440x720 with 1 Axes>"
      ]
     },
     "metadata": {
      "needs_background": "light"
     },
     "output_type": "display_data"
    }
   ],
   "source": [
    "plt.figure(figsize=(20,10))\n",
    "# -- check out bottom \n",
    "plt.bar(ctab['relationship'], ctab['<=50K'], facecolor='lightblue', alpha=0.5)\n",
    "plt.bar(ctab['relationship'], ctab['>50K'], bottom=ctab['<=50K'], facecolor='red', alpha=0.5)\n",
    "plt.show()"
   ]
  },
  {
   "cell_type": "code",
   "execution_count": 56,
   "metadata": {},
   "outputs": [
    {
     "data": {
      "text/html": [
       "<div>\n",
       "<style scoped>\n",
       "    .dataframe tbody tr th:only-of-type {\n",
       "        vertical-align: middle;\n",
       "    }\n",
       "\n",
       "    .dataframe tbody tr th {\n",
       "        vertical-align: top;\n",
       "    }\n",
       "\n",
       "    .dataframe thead th {\n",
       "        text-align: right;\n",
       "    }\n",
       "</style>\n",
       "<table border=\"1\" class=\"dataframe\">\n",
       "  <thead>\n",
       "    <tr style=\"text-align: right;\">\n",
       "      <th>income</th>\n",
       "      <th>relationship</th>\n",
       "      <th>&lt;=50K</th>\n",
       "      <th>&gt;50K</th>\n",
       "    </tr>\n",
       "  </thead>\n",
       "  <tbody>\n",
       "    <tr>\n",
       "      <td>0</td>\n",
       "      <td>Husband</td>\n",
       "      <td>10870</td>\n",
       "      <td>8846</td>\n",
       "    </tr>\n",
       "    <tr>\n",
       "      <td>1</td>\n",
       "      <td>Not-in-family</td>\n",
       "      <td>11307</td>\n",
       "      <td>1276</td>\n",
       "    </tr>\n",
       "    <tr>\n",
       "      <td>2</td>\n",
       "      <td>Other-relative</td>\n",
       "      <td>1454</td>\n",
       "      <td>52</td>\n",
       "    </tr>\n",
       "    <tr>\n",
       "      <td>3</td>\n",
       "      <td>Own-child</td>\n",
       "      <td>7470</td>\n",
       "      <td>111</td>\n",
       "    </tr>\n",
       "    <tr>\n",
       "      <td>4</td>\n",
       "      <td>Unmarried</td>\n",
       "      <td>4816</td>\n",
       "      <td>309</td>\n",
       "    </tr>\n",
       "    <tr>\n",
       "      <td>5</td>\n",
       "      <td>Wife</td>\n",
       "      <td>1238</td>\n",
       "      <td>1093</td>\n",
       "    </tr>\n",
       "  </tbody>\n",
       "</table>\n",
       "</div>"
      ],
      "text/plain": [
       "income    relationship  <=50K  >50K\n",
       "0              Husband  10870  8846\n",
       "1        Not-in-family  11307  1276\n",
       "2       Other-relative   1454    52\n",
       "3            Own-child   7470   111\n",
       "4            Unmarried   4816   309\n",
       "5                 Wife   1238  1093"
      ]
     },
     "execution_count": 56,
     "metadata": {},
     "output_type": "execute_result"
    }
   ],
   "source": [
    "# -- without normalization you just get a frequency about the categories, which is usefull too. \n",
    "ctab = pd.crosstab(df['relationship'], df['income']).reset_index()\n",
    "ctab"
   ]
  },
  {
   "cell_type": "code",
   "execution_count": 57,
   "metadata": {},
   "outputs": [
    {
     "data": {
      "image/png": "[encoded data removed]",
      "text/plain": [
       "<Figure size 1440x720 with 1 Axes>"
      ]
     },
     "metadata": {
      "needs_background": "light"
     },
     "output_type": "display_data"
    }
   ],
   "source": [
    "plt.figure(figsize=(20,10))\n",
    "plt.bar(ctab['relationship'],ctab['<=50K'], facecolor='lightblue', alpha=0.5)\n",
    "plt.bar(ctab['relationship'],ctab['>50K'], facecolor='red', alpha=0.5)\n",
    "\n",
    "plt.show()"
   ]
  },
  {
   "cell_type": "code",
   "execution_count": 62,
   "metadata": {},
   "outputs": [
    {
     "data": {
      "text/html": [
       "<div>\n",
       "<style scoped>\n",
       "    .dataframe tbody tr th:only-of-type {\n",
       "        vertical-align: middle;\n",
       "    }\n",
       "\n",
       "    .dataframe tbody tr th {\n",
       "        vertical-align: top;\n",
       "    }\n",
       "\n",
       "    .dataframe thead th {\n",
       "        text-align: right;\n",
       "    }\n",
       "</style>\n",
       "<table border=\"1\" class=\"dataframe\">\n",
       "  <thead>\n",
       "    <tr style=\"text-align: right;\">\n",
       "      <th>income</th>\n",
       "      <th>education</th>\n",
       "      <th>&lt;=50K</th>\n",
       "      <th>&gt;50K</th>\n",
       "    </tr>\n",
       "  </thead>\n",
       "  <tbody>\n",
       "    <tr>\n",
       "      <td>13</td>\n",
       "      <td>Preschool</td>\n",
       "      <td>0.987952</td>\n",
       "      <td>0.012048</td>\n",
       "    </tr>\n",
       "    <tr>\n",
       "      <td>3</td>\n",
       "      <td>1st-4th</td>\n",
       "      <td>0.967611</td>\n",
       "      <td>0.032389</td>\n",
       "    </tr>\n",
       "    <tr>\n",
       "      <td>1</td>\n",
       "      <td>11th</td>\n",
       "      <td>0.949227</td>\n",
       "      <td>0.050773</td>\n",
       "    </tr>\n",
       "    <tr>\n",
       "      <td>4</td>\n",
       "      <td>5th-6th</td>\n",
       "      <td>0.946955</td>\n",
       "      <td>0.053045</td>\n",
       "    </tr>\n",
       "    <tr>\n",
       "      <td>6</td>\n",
       "      <td>9th</td>\n",
       "      <td>0.945767</td>\n",
       "      <td>0.054233</td>\n",
       "    </tr>\n",
       "    <tr>\n",
       "      <td>0</td>\n",
       "      <td>10th</td>\n",
       "      <td>0.937365</td>\n",
       "      <td>0.062635</td>\n",
       "    </tr>\n",
       "    <tr>\n",
       "      <td>5</td>\n",
       "      <td>7th-8th</td>\n",
       "      <td>0.935079</td>\n",
       "      <td>0.064921</td>\n",
       "    </tr>\n",
       "    <tr>\n",
       "      <td>2</td>\n",
       "      <td>12th</td>\n",
       "      <td>0.926941</td>\n",
       "      <td>0.073059</td>\n",
       "    </tr>\n",
       "    <tr>\n",
       "      <td>11</td>\n",
       "      <td>HS-grad</td>\n",
       "      <td>0.841422</td>\n",
       "      <td>0.158578</td>\n",
       "    </tr>\n",
       "    <tr>\n",
       "      <td>15</td>\n",
       "      <td>Some-college</td>\n",
       "      <td>0.810351</td>\n",
       "      <td>0.189649</td>\n",
       "    </tr>\n",
       "    <tr>\n",
       "      <td>8</td>\n",
       "      <td>Assoc-voc</td>\n",
       "      <td>0.746725</td>\n",
       "      <td>0.253275</td>\n",
       "    </tr>\n",
       "    <tr>\n",
       "      <td>7</td>\n",
       "      <td>Assoc-acdm</td>\n",
       "      <td>0.742036</td>\n",
       "      <td>0.257964</td>\n",
       "    </tr>\n",
       "    <tr>\n",
       "      <td>9</td>\n",
       "      <td>Bachelors</td>\n",
       "      <td>0.587165</td>\n",
       "      <td>0.412835</td>\n",
       "    </tr>\n",
       "    <tr>\n",
       "      <td>12</td>\n",
       "      <td>Masters</td>\n",
       "      <td>0.450884</td>\n",
       "      <td>0.549116</td>\n",
       "    </tr>\n",
       "    <tr>\n",
       "      <td>10</td>\n",
       "      <td>Doctorate</td>\n",
       "      <td>0.274411</td>\n",
       "      <td>0.725589</td>\n",
       "    </tr>\n",
       "    <tr>\n",
       "      <td>14</td>\n",
       "      <td>Prof-school</td>\n",
       "      <td>0.260192</td>\n",
       "      <td>0.739808</td>\n",
       "    </tr>\n",
       "  </tbody>\n",
       "</table>\n",
       "</div>"
      ],
      "text/plain": [
       "income     education     <=50K      >50K\n",
       "13         Preschool  0.987952  0.012048\n",
       "3            1st-4th  0.967611  0.032389\n",
       "1               11th  0.949227  0.050773\n",
       "4            5th-6th  0.946955  0.053045\n",
       "6                9th  0.945767  0.054233\n",
       "0               10th  0.937365  0.062635\n",
       "5            7th-8th  0.935079  0.064921\n",
       "2               12th  0.926941  0.073059\n",
       "11           HS-grad  0.841422  0.158578\n",
       "15      Some-college  0.810351  0.189649\n",
       "8          Assoc-voc  0.746725  0.253275\n",
       "7         Assoc-acdm  0.742036  0.257964\n",
       "9          Bachelors  0.587165  0.412835\n",
       "12           Masters  0.450884  0.549116\n",
       "10         Doctorate  0.274411  0.725589\n",
       "14       Prof-school  0.260192  0.739808"
      ]
     },
     "execution_count": 62,
     "metadata": {},
     "output_type": "execute_result"
    }
   ],
   "source": [
    "# -- normalize index converts to row percetages \n",
    "ctab = pd.crosstab(df['education'], df['income'], normalize=\"index\").reset_index().sort_values('<=50K',ascending=False )\n",
    "ctab"
   ]
  },
  {
   "cell_type": "code",
   "execution_count": 63,
   "metadata": {},
   "outputs": [
    {
     "data": {
      "image/png": "[encoded data removed]",
      "text/plain": [
       "<Figure size 1440x720 with 1 Axes>"
      ]
     },
     "metadata": {
      "needs_background": "light"
     },
     "output_type": "display_data"
    }
   ],
   "source": [
    "plt.figure(figsize=(20,10))\n",
    "# -- check out bottom \n",
    "plt.bar(ctab['education'], ctab['<=50K'], facecolor='lightblue', alpha=0.5)\n",
    "plt.bar(ctab['education'], ctab['>50K'], bottom=ctab['<=50K'], facecolor='red', alpha=0.5)\n",
    "plt.show()"
   ]
  },
  {
   "cell_type": "markdown",
   "metadata": {},
   "source": [
    "## Part 2.\n",
    "### 5. Partition into 75/25 split\n",
    "-----\n",
    "Sklearn is our main pakage, we imported **train_test_split** from the model selection module. Why do we need to split the data? well we do it so that we are making predictions on an out-of-sample data, meaning will our prediction generalize to new and unseen data? it isn't fair to evaluate our prediction if it's seen the data before right? i mean you wouldn't go to your psychic and tell them exactly what you want to hear before they do your the reading?\n",
    "\n",
    "So what percentage to use? the general rule of thumb is a 70/30 or 75/25 training test split. you'll \"train\" your model on 70% of the data and evaluate it on 30%. \n",
    "\n",
    "\n"
   ]
  },
  {
   "cell_type": "code",
   "execution_count": 76,
   "metadata": {},
   "outputs": [
    {
     "name": "stdout",
     "output_type": "stream",
     "text": [
      "train pct: 70.00%\n",
      "test  pct: 30.00%\n"
     ]
    }
   ],
   "source": [
    "train, test = train_test_split(df,test_size=0.30)\n",
    "print(\"train pct: {:2.2%}\".format(train.shape[0]/df.shape[0]))\n",
    "print(\"test  pct: {:2.2%}\".format(test.shape[0]/df.shape[0]))\n"
   ]
  },
  {
   "cell_type": "markdown",
   "metadata": {},
   "source": [
    "## 6. Write a rule to predict likely targets\n",
    "-----\n",
    "based on our exploratory analysis above we can see that age, education, and relationship are probalby good predictors of income. Here i'm going to create a rule based on the following logic \n",
    "\n",
    "- age >= 40 \n",
    "- education in ('Bachelors', 'Masters', 'Doctorate', 'Prof-school')\n",
    "- relationship in ('Husband', 'Wife')\n",
    "\n",
    "To do this. \n",
    "1. make a new column **income_pred** default it to <=50k, our majority class \n",
    "2. write rules to update **income_pred** to equal >50k \n",
    "3. I like confusion matricies they help you know how well you are doing, predicting the target. \n"
   ]
  },
  {
   "cell_type": "code",
   "execution_count": 128,
   "metadata": {},
   "outputs": [
    {
     "name": "stdout",
     "output_type": "stream",
     "text": [
      "Training confusion Matrix\n",
      "Predicted  <=50K   >50K\n",
      "Actual                 \n",
      "<=50K      10100  15875\n",
      ">50K         189   8025\n"
     ]
    },
    {
     "data": {
      "image/png": "[encoded data removed]",
      "text/plain": [
       "<Figure size 576x360 with 2 Axes>"
      ]
     },
     "metadata": {
      "needs_background": "light"
     },
     "output_type": "display_data"
    },
    {
     "data": {
      "image/png": "[encoded data removed]",
      "text/plain": [
       "<Figure size 576x360 with 2 Axes>"
      ]
     },
     "metadata": {
      "needs_background": "light"
     },
     "output_type": "display_data"
    }
   ],
   "source": [
    "# -- default the predicted target \n",
    "train.loc[:,'income_pred'] = '<=50K'\n",
    "# -- update where rules are met \n",
    "train.loc[train['age'] >= 40, 'income_pred' ] = '>50K'\n",
    "train.loc[train['education'].isin(['Bachelors', 'Masters', 'Doctorate', 'Prof-school']), 'income_pred' ] = '>50K'\n",
    "train.loc[train['relationship'].isin(['Husband', 'Wife']),  'income_pred' ] = '>50K'\n",
    "\n",
    "\n",
    "print(\"Training confusion Matrix\")\n",
    "confusion_matrix = pd.crosstab(train['income'], train['income_pred'],  rownames=['Actual'], colnames=['Predicted'])\n",
    "confusion_matrix_pct = pd.crosstab(train['income'], train['income_pred'], normalize=\"index\", rownames=['Actual'], colnames=['Predicted'])\n",
    "print (confusion_matrix)\n",
    "\n",
    "plt.figure(figsize=(8,5))\n",
    "sns.heatmap(confusion_matrix, annot=True, fmt='g')\n",
    "plt.show()\n",
    "\n",
    "plt.figure(figsize=(8,5))\n",
    "sns.heatmap(confusion_matrix_pct, annot=True, fmt='g')\n",
    "plt.show()"
   ]
  },
  {
   "cell_type": "code",
   "execution_count": 129,
   "metadata": {},
   "outputs": [
    {
     "name": "stdout",
     "output_type": "stream",
     "text": [
      "Test confusion Matrix\n",
      "Predicted  <=50K  >50K\n",
      "Actual                \n",
      "<=50K       4439  6741\n",
      ">50K          91  3382\n"
     ]
    },
    {
     "data": {
      "image/png": "[encoded data removed]",
      "text/plain": [
       "<Figure size 576x360 with 2 Axes>"
      ]
     },
     "metadata": {
      "needs_background": "light"
     },
     "output_type": "display_data"
    },
    {
     "data": {
      "image/png": "[encoded data removed]",
      "text/plain": [
       "<Figure size 576x360 with 2 Axes>"
      ]
     },
     "metadata": {
      "needs_background": "light"
     },
     "output_type": "display_data"
    }
   ],
   "source": [
    "# -- repeat with the test dataset \n",
    "test.loc[:,'income_pred'] = '<=50K'\n",
    "# -- update where rules are met \n",
    "test.loc[test['age'] >= 40, 'income_pred' ] = '>50K'\n",
    "test.loc[test['education'].isin(['Bachelors', 'Masters', 'Doctorate', 'Prof-school']), 'income_pred' ] = '>50K'\n",
    "test.loc[test['relationship'].isin(['Husband', 'Wife']),  'income_pred' ] = '>50K'\n",
    "\n",
    "print(\"Test confusion Matrix\")\n",
    "confusion_matrix = pd.crosstab(test['income'], test['income_pred'],  rownames=['Actual'], colnames=['Predicted'])\n",
    "confusion_matrix_pct = pd.crosstab(test['income'], test['income_pred'], normalize=\"index\", rownames=['Actual'], colnames=['Predicted'])\n",
    "print (confusion_matrix)\n",
    "\n",
    "plt.figure(figsize=(8,5))\n",
    "sns.heatmap(confusion_matrix, annot=True, fmt='g')\n",
    "plt.show()\n",
    "\n",
    "plt.figure(figsize=(8,5))\n",
    "sns.heatmap(confusion_matrix_pct, annot=True, fmt='g')\n",
    "plt.show()"
   ]
  },
  {
   "cell_type": "markdown",
   "metadata": {},
   "source": [
    "## 7. Evaluate\n",
    "\n",
    "How accurate were we? Accuracy is one metric for evaluating classification models. Informally, accuracy is the fraction of predictions our model got right. \n",
    "Formally, accuracy has the following definition:\n",
    "\n",
    "    accuracy = number of correct predictions / all predictions \n",
    "    \n",
    "    \n",
    "We always want to understand if we did nothing, how accurate were we? and then compare how accurate were we with our predictions. \n",
    "\n",
    "https://scikit-learn.org/stable/modules/generated/sklearn.metrics.accuracy_score.html\n",
    "\n"
   ]
  },
  {
   "cell_type": "code",
   "execution_count": 98,
   "metadata": {},
   "outputs": [
    {
     "name": "stdout",
     "output_type": "stream",
     "text": [
      "Default Accuracy : 75.97%\n",
      "Train Accuracy   : 53.01%\n",
      "Test Accuracy    : 53.37%\n"
     ]
    }
   ],
   "source": [
    "from sklearn.metrics import accuracy_score\n",
    "### Default Accuracy, i.e. do nothing predict everyone as <50K, is the same as saying what % of <50K \n",
    "accuracy_default = train['income'].value_counts(normalize='True')[0]\n",
    "accuracy_train = accuracy_score(train['income'], train['income_pred'])\n",
    "accuracy_test = accuracy_score(test['income'], test['income_pred'])\n",
    "print(\"Default Accuracy : {:2.2%}\".format(accuracy_default))\n",
    "print(\"Train Accuracy   : {:2.2%}\".format(accuracy_train))\n",
    "print(\"Test Accuracy    : {:2.2%}\".format(accuracy_test))"
   ]
  },
  {
   "cell_type": "markdown",
   "metadata": {},
   "source": [
    "## 8. Writeup \n",
    "----- \n",
    "i'm not looking for anything long, just a short write up on what you did, what you thought was interesing about the data, how your rules performed, what can you infer about accuracy as a measure of performance vs. a confusion matrix? is Accuracy a good measure of classifier performance?  "
   ]
  },
  {
   "cell_type": "code",
   "execution_count": null,
   "metadata": {},
   "outputs": [],
   "source": []
  }
 ],
 "metadata": {
  "kernelspec": {
   "display_name": "Python 3",
   "language": "python",
   "name": "python3"
  },
  "language_info": {
   "codemirror_mode": {
    "name": "ipython",
    "version": 3
   },
   "file_extension": ".py",
   "mimetype": "text/x-python",
   "name": "python",
   "nbconvert_exporter": "python",
   "pygments_lexer": "ipython3",
   "version": "3.7.3"
  }
 },
 "nbformat": 4,
 "nbformat_minor": 2
}
